{
 "cells": [
  {
   "cell_type": "code",
   "execution_count": 1,
   "metadata": {},
   "outputs": [],
   "source": [
    "import nltk\n",
    "import pandas as pd\n",
    "import numpy as np"
   ]
  },
  {
   "cell_type": "code",
   "execution_count": 2,
   "metadata": {},
   "outputs": [],
   "source": [
    "#load the dataset\n",
    "with open('FIFAWorldCup2018.txt','r',encoding = 'utf-8',errors='ignore') as myfile:\n",
    "    raw_data = myfile.read()\n",
    "\n",
    "raw_data = raw_data.replace('\\n',' ')"
   ]
  },
  {
   "cell_type": "code",
   "execution_count": 3,
   "metadata": {},
   "outputs": [
    {
     "data": {
      "text/plain": [
       "'2018 FIFA World CUP is an international tournament where all teams compete religously and they showcase beautiful talent. It took place in Russia from 14 June to 15 July 2018. It was the first World Cup to be held in Eastern Europe, and the 11th time that it had been held in Europe. At an estimated cost of over 14.2 billion, it was the most expensive World Cup. It was also the first World Cup to use the video assistant referee  system.  The finals involved 32 teams, of which 31 came through qualifying competitions, while the host nation qualified automatically. Of the 32 teams, 20 had also appeared in the previous tournament in 2014, while both Iceland and Panama made their first appearances at a FIFA World Cup. A total of 64 matches were played in 12 venues across 11 cities.  The final took place on 15 July at the Luzhniki Stadium in Moscow, between France and Croatia. France won the match 42 to claim their second World Cup title, marking the fourth consecutive title won by a European team. The bidding procedure to host the 2018 and 2022 FIFA World Cup tournaments began in January 2009, and national associations had until 2 February 2009 to register their interest. Initially, nine countries placed bids for the 2018 FIFA World Cup, but Mexico later withdrew from proceedings,  and Indonesia\\'s bid was rejected by FIFA in February 2010 after the Indonesian government failed to submit a letter to support the bid.  During the bidding process, the three remaining non-UEFA nations (Australia, Japan, and the United States) gradually withdrew from the 2018 bids, and the UEFA nations were thus ruled out of the 2022 bid. As such, there were eventually four bids for the 2018 FIFA World Cup, two of which were joint bids: England, Russia, Netherlands/Belgium, and Portugal/Spain. The 22-member FIFA Executive Committee convened in Zrich on 2 December 2010 to vote to select the hosts of both tournaments. Russia won the right to be the 2018 host in the second round of voting. The Portugal/Spain bid came second, and that from Belgium/Netherlands third. England, which was bidding to host its second tournament, was eliminated in the first round The English Football Association and others raised concerns of bribery on the part of the Russian team and corruption from FIFA members. They claimed that four members of the executive committee had requested bribes to vote for England, and Sepp Blatter had said that it had already been arranged before the vote that Russia would win.  The 2014 Garcia Report, an internal investigation led by Michael J. Garcia, was withheld from public release by Hans-Joachim Eckert, FIFA\\'s head of adjudication on ethical matters. Eckert instead released a shorter revised summary, and his (and therefore FIFA\\'s) reluctance to publish the full report caused Garcia to resign in protest. Because of the controversy, the FA refused to accept Eckert\\'s absolving of Russia from blame, with Greg Dyke calling for a re-examination of the affair and David Bernstein calling for a boycott of the World Cup. At an estimated cost of over $14.2 billion as of June 2018,  it is the most expensive World Cup in history, surpassing the cost of the 2014 FIFA World Cup in Brazil.  The Russian government had originally earmarked a budget of around $20 billion which was later slashed to $10 billion for the preparations of the World Cup, of which half is spent on transport infrastructure. As part of the program for preparation to the 2018 FIFA World Cup, a federal sub-program \"Construction and Renovation of Transport Infrastructure\" was implemented with a total budget of 352.5 billion rubles, with 170.3 billion coming from the federal budget, 35.1 billion from regional budgets, and 147.1 billion from investors. The biggest item of federal spending was the aviation infrastructure (117.8 billion rubles).[86] Construction of new hotels was a crucial area of infrastructure development in the World Cup host cities. Costs continued to balloon as preparations were underway There were 169 goals scored in 64 matches, for an average of 2.64 goals per match. Twelve own goals were scored during the tournament, doubling the record of six set in 1998  '"
      ]
     },
     "execution_count": 3,
     "metadata": {},
     "output_type": "execute_result"
    }
   ],
   "source": [
    "raw_data"
   ]
  },
  {
   "cell_type": "markdown",
   "metadata": {},
   "source": [
    "### 1. Write a Python functions that accept a string, a number #n and and return:\n",
    "####  - N most frequent nouns (Take function name as “GetNMostFrequentNouns”)\n",
    "####  - N most frequent verbs (Take function name as “GetNMostFrequentVerbs”)\n",
    "####  - N most frequent delimiters (Take function name as “GetNMostFrequentDelimiters”)\n",
    "####  - N most frequent prepositions (Take function name as “GetNMostFrequentPrepositions”)\n"
   ]
  },
  {
   "cell_type": "code",
   "execution_count": 4,
   "metadata": {},
   "outputs": [],
   "source": [
    "from string import punctuation\n",
    "from nltk.corpus import stopwords\n",
    "from nltk import sent_tokenize, word_tokenize\n",
    "from nltk import RegexpParser\n",
    "from nltk import pos_tag"
   ]
  },
  {
   "cell_type": "code",
   "execution_count": null,
   "metadata": {},
   "outputs": [],
   "source": []
  },
  {
   "cell_type": "code",
   "execution_count": 5,
   "metadata": {},
   "outputs": [],
   "source": [
    "#stop_words = set(stopwords.words('english'))\n",
    "#print(stop_words)\n",
    "\n",
    "#print(word_tokenize(raw_data))"
   ]
  },
  {
   "cell_type": "code",
   "execution_count": 6,
   "metadata": {},
   "outputs": [],
   "source": [
    "#write a function that return the most frequent nouns\n",
    "def GEtNMostFrequentNouns(string,num):\n",
    "    data = string\n",
    "    try:\n",
    "        words_tokenizer = word_tokenize(string)\n",
    "        no_punctuation_words_tokenizer = [w for w in words_tokenizer if w not in punctuation]\n",
    "        tagged_words_tokenizer = pos_tag(no_punctuation_words_tokenizer)\n",
    "        \n",
    "    except:\n",
    "        return []\n",
    "    else:\n",
    "        \n",
    "        grammer_expression = r\"NP:{<N.*>}\"\n",
    "        cp = nltk.RegexpParser(grammer_expression)\n",
    "        list_parse = cp.parse(tagged_words_tokenizer)\n",
    "        #print(len(list_parse))\n",
    "        #print(list_parse)\n",
    "        noun_list = []\n",
    "        for subtree in list_parse.subtrees():\n",
    "            #print(subtree)\n",
    "            if subtree.label() == 'NP': \n",
    "                noun_list.append(subtree.leaves()[0][0])\n",
    "    df = pd.DataFrame(noun_list)\n",
    "    table_val = pd.DataFrame()\n",
    "    table_val['Noun'] = df[0].value_counts().index\n",
    "    table_val['Frequency'] = df[0].value_counts().values\n",
    "    #print(table_val)\n",
    "    #print(df[0].value_counts()[0:num])\n",
    "    return table_val.head(num)\n",
    "    "
   ]
  },
  {
   "cell_type": "code",
   "execution_count": 7,
   "metadata": {},
   "outputs": [
    {
     "data": {
      "text/html": [
       "<div>\n",
       "<style scoped>\n",
       "    .dataframe tbody tr th:only-of-type {\n",
       "        vertical-align: middle;\n",
       "    }\n",
       "\n",
       "    .dataframe tbody tr th {\n",
       "        vertical-align: top;\n",
       "    }\n",
       "\n",
       "    .dataframe thead th {\n",
       "        text-align: right;\n",
       "    }\n",
       "</style>\n",
       "<table border=\"1\" class=\"dataframe\">\n",
       "  <thead>\n",
       "    <tr style=\"text-align: right;\">\n",
       "      <th></th>\n",
       "      <th>Noun</th>\n",
       "      <th>Frequency</th>\n",
       "    </tr>\n",
       "  </thead>\n",
       "  <tbody>\n",
       "    <tr>\n",
       "      <th>0</th>\n",
       "      <td>World</td>\n",
       "      <td>15</td>\n",
       "    </tr>\n",
       "    <tr>\n",
       "      <th>1</th>\n",
       "      <td>Cup</td>\n",
       "      <td>14</td>\n",
       "    </tr>\n",
       "    <tr>\n",
       "      <th>2</th>\n",
       "      <td>FIFA</td>\n",
       "      <td>12</td>\n",
       "    </tr>\n",
       "  </tbody>\n",
       "</table>\n",
       "</div>"
      ],
      "text/plain": [
       "    Noun  Frequency\n",
       "0  World         15\n",
       "1    Cup         14\n",
       "2   FIFA         12"
      ]
     },
     "execution_count": 7,
     "metadata": {},
     "output_type": "execute_result"
    }
   ],
   "source": [
    "GEtNMostFrequentNouns(raw_data,3)"
   ]
  },
  {
   "cell_type": "markdown",
   "metadata": {},
   "source": [
    "##### N most frequent verbs (Take function name as “GetNMostFrequentVerbs”)"
   ]
  },
  {
   "cell_type": "code",
   "execution_count": 8,
   "metadata": {},
   "outputs": [],
   "source": [
    "#write a function that return the most frequent verbs\n",
    "def GetNMostFrequentVerbs(string,num):\n",
    "    try:\n",
    "        words_tokenizer = word_tokenize(string)\n",
    "        no_punctuation_words_tokenizer = [w for w in words_tokenizer if w not in punctuation]\n",
    "        tagged_words_tokenizer = pos_tag(no_punctuation_words_tokenizer)\n",
    "        \n",
    "    except:\n",
    "        return []\n",
    "    else:\n",
    "        \n",
    "        grammer_expression = r\"NP:{<V.*>}\"\n",
    "        cp = nltk.RegexpParser(grammer_expression)\n",
    "        list_parse = cp.parse(tagged_words_tokenizer)\n",
    "        #print(len(list_parse))\n",
    "        #print(list_parse)\n",
    "        noun_list = []\n",
    "        for subtree in list_parse.subtrees():\n",
    "            #print(subtree)\n",
    "            if subtree.label() == 'NP': \n",
    "                noun_list.append(subtree.leaves()[0][0])\n",
    "    df = pd.DataFrame(noun_list)\n",
    "    table_val = pd.DataFrame()\n",
    "    table_val['Noun'] = df[0].value_counts().index\n",
    "    table_val['Frequency'] = df[0].value_counts().values\n",
    "    #print(table_val)\n",
    "    #print(df[0].value_counts()[0:num])\n",
    "    return table_val.head(num)"
   ]
  },
  {
   "cell_type": "code",
   "execution_count": 9,
   "metadata": {},
   "outputs": [
    {
     "data": {
      "text/html": [
       "<div>\n",
       "<style scoped>\n",
       "    .dataframe tbody tr th:only-of-type {\n",
       "        vertical-align: middle;\n",
       "    }\n",
       "\n",
       "    .dataframe tbody tr th {\n",
       "        vertical-align: top;\n",
       "    }\n",
       "\n",
       "    .dataframe thead th {\n",
       "        text-align: right;\n",
       "    }\n",
       "</style>\n",
       "<table border=\"1\" class=\"dataframe\">\n",
       "  <thead>\n",
       "    <tr style=\"text-align: right;\">\n",
       "      <th></th>\n",
       "      <th>Noun</th>\n",
       "      <th>Frequency</th>\n",
       "    </tr>\n",
       "  </thead>\n",
       "  <tbody>\n",
       "    <tr>\n",
       "      <th>0</th>\n",
       "      <td>was</td>\n",
       "      <td>11</td>\n",
       "    </tr>\n",
       "    <tr>\n",
       "      <th>1</th>\n",
       "      <td>were</td>\n",
       "      <td>7</td>\n",
       "    </tr>\n",
       "    <tr>\n",
       "      <th>2</th>\n",
       "      <td>had</td>\n",
       "      <td>7</td>\n",
       "    </tr>\n",
       "    <tr>\n",
       "      <th>3</th>\n",
       "      <td>won</td>\n",
       "      <td>3</td>\n",
       "    </tr>\n",
       "    <tr>\n",
       "      <th>4</th>\n",
       "      <td>is</td>\n",
       "      <td>3</td>\n",
       "    </tr>\n",
       "    <tr>\n",
       "      <th>5</th>\n",
       "      <td>been</td>\n",
       "      <td>2</td>\n",
       "    </tr>\n",
       "    <tr>\n",
       "      <th>6</th>\n",
       "      <td>took</td>\n",
       "      <td>2</td>\n",
       "    </tr>\n",
       "  </tbody>\n",
       "</table>\n",
       "</div>"
      ],
      "text/plain": [
       "   Noun  Frequency\n",
       "0   was         11\n",
       "1  were          7\n",
       "2   had          7\n",
       "3   won          3\n",
       "4    is          3\n",
       "5  been          2\n",
       "6  took          2"
      ]
     },
     "execution_count": 9,
     "metadata": {},
     "output_type": "execute_result"
    }
   ],
   "source": [
    "GetNMostFrequentVerbs(raw_data,7)"
   ]
  },
  {
   "cell_type": "markdown",
   "metadata": {},
   "source": [
    "##### N most frequent delimiters (Take function name as “GetNMostFrequentDelimiters”)\n"
   ]
  },
  {
   "cell_type": "code",
   "execution_count": 10,
   "metadata": {},
   "outputs": [],
   "source": [
    "#write a function that return the most frequent delimiters\n",
    "def GetNMostFrequentDelimiters(string,num):\n",
    "    try:\n",
    "        words_tokenizer = word_tokenize(string)\n",
    "        #no_punctuation_words_tokenizer = [w for w in words_tokenizer if w not in punctuation]\n",
    "        #tagged_words_tokenizer = pos_tag(no_punctuation_words_tokenizer)\n",
    "        tagged_words_tokenizer = pos_tag(words_tokenizer)\n",
    "        \n",
    "    except:\n",
    "        return []\n",
    "    else:\n",
    "        \n",
    "        grammer_expression = r\"NP:{<.|,|:|(|)|''|>}\"\n",
    "        cp = nltk.RegexpParser(grammer_expression)\n",
    "        list_parse = cp.parse(tagged_words_tokenizer)\n",
    "        #print(len(list_parse))\n",
    "        #print(list_parse)\n",
    "        noun_list = []\n",
    "        for subtree in list_parse.subtrees():\n",
    "            #print(subtree)\n",
    "            if subtree.label() == 'NP': \n",
    "                noun_list.append(subtree.leaves()[0][0])\n",
    "    df = pd.DataFrame(noun_list)\n",
    "    table_val = pd.DataFrame()\n",
    "    table_val['Noun'] = df[0].value_counts().index\n",
    "    table_val['Frequency'] = df[0].value_counts().values\n",
    "    #print(table_val)\n",
    "    #print(df[0].value_counts()[0:num])\n",
    "    return table_val.head(num)"
   ]
  },
  {
   "cell_type": "code",
   "execution_count": 11,
   "metadata": {},
   "outputs": [
    {
     "data": {
      "text/html": [
       "<div>\n",
       "<style scoped>\n",
       "    .dataframe tbody tr th:only-of-type {\n",
       "        vertical-align: middle;\n",
       "    }\n",
       "\n",
       "    .dataframe tbody tr th {\n",
       "        vertical-align: top;\n",
       "    }\n",
       "\n",
       "    .dataframe thead th {\n",
       "        text-align: right;\n",
       "    }\n",
       "</style>\n",
       "<table border=\"1\" class=\"dataframe\">\n",
       "  <thead>\n",
       "    <tr style=\"text-align: right;\">\n",
       "      <th></th>\n",
       "      <th>Noun</th>\n",
       "      <th>Frequency</th>\n",
       "    </tr>\n",
       "  </thead>\n",
       "  <tbody>\n",
       "    <tr>\n",
       "      <th>0</th>\n",
       "      <td>,</td>\n",
       "      <td>40</td>\n",
       "    </tr>\n",
       "    <tr>\n",
       "      <th>1</th>\n",
       "      <td>.</td>\n",
       "      <td>28</td>\n",
       "    </tr>\n",
       "    <tr>\n",
       "      <th>2</th>\n",
       "      <td>(</td>\n",
       "      <td>3</td>\n",
       "    </tr>\n",
       "    <tr>\n",
       "      <th>3</th>\n",
       "      <td>$</td>\n",
       "      <td>3</td>\n",
       "    </tr>\n",
       "  </tbody>\n",
       "</table>\n",
       "</div>"
      ],
      "text/plain": [
       "  Noun  Frequency\n",
       "0    ,         40\n",
       "1    .         28\n",
       "2    (          3\n",
       "3    $          3"
      ]
     },
     "execution_count": 11,
     "metadata": {},
     "output_type": "execute_result"
    }
   ],
   "source": [
    "GetNMostFrequentDelimiters(raw_data,4)"
   ]
  },
  {
   "cell_type": "code",
   "execution_count": 12,
   "metadata": {},
   "outputs": [],
   "source": [
    "#nltk.download('tagsets')\n",
    "#nltk.help.upenn_tagset()"
   ]
  },
  {
   "cell_type": "code",
   "execution_count": null,
   "metadata": {},
   "outputs": [],
   "source": []
  },
  {
   "cell_type": "markdown",
   "metadata": {},
   "source": [
    "##### N most frequent prepositions (Take function name as “GetNMostFrequentPrepositions”)"
   ]
  },
  {
   "cell_type": "code",
   "execution_count": 13,
   "metadata": {},
   "outputs": [],
   "source": [
    "#write a function that return the most frequent prepositions\n",
    "def GetNMostFrequentPrepositions(string,num):\n",
    "    try:\n",
    "        words_tokenizer = word_tokenize(string)\n",
    "        no_punctuation_words_tokenizer = [w for w in words_tokenizer if w not in punctuation]\n",
    "        tagged_words_tokenizer = pos_tag(no_punctuation_words_tokenizer)\n",
    "        \n",
    "    except:\n",
    "        return []\n",
    "    else:\n",
    "        \n",
    "        grammer_expression = r\"NP:{<IN.*>}\"\n",
    "        cp = nltk.RegexpParser(grammer_expression)\n",
    "        list_parse = cp.parse(tagged_words_tokenizer)\n",
    "        #print(len(list_parse))\n",
    "        #print(list_parse)\n",
    "        noun_list = []\n",
    "        for subtree in list_parse.subtrees():\n",
    "            #print(subtree)\n",
    "            if subtree.label() == 'NP': \n",
    "                noun_list.append(subtree.leaves()[0][0])\n",
    "    df = pd.DataFrame(noun_list)\n",
    "    table_val = pd.DataFrame()\n",
    "    table_val['Noun'] = df[0].value_counts().index\n",
    "    table_val['Frequency'] = df[0].value_counts().values\n",
    "    #print(table_val)\n",
    "    #print(df[0].value_counts()[0:num])\n",
    "    return table_val.head(num)"
   ]
  },
  {
   "cell_type": "code",
   "execution_count": 14,
   "metadata": {},
   "outputs": [
    {
     "data": {
      "text/html": [
       "<div>\n",
       "<style scoped>\n",
       "    .dataframe tbody tr th:only-of-type {\n",
       "        vertical-align: middle;\n",
       "    }\n",
       "\n",
       "    .dataframe tbody tr th {\n",
       "        vertical-align: top;\n",
       "    }\n",
       "\n",
       "    .dataframe thead th {\n",
       "        text-align: right;\n",
       "    }\n",
       "</style>\n",
       "<table border=\"1\" class=\"dataframe\">\n",
       "  <thead>\n",
       "    <tr style=\"text-align: right;\">\n",
       "      <th></th>\n",
       "      <th>Noun</th>\n",
       "      <th>Frequency</th>\n",
       "    </tr>\n",
       "  </thead>\n",
       "  <tbody>\n",
       "    <tr>\n",
       "      <th>0</th>\n",
       "      <td>of</td>\n",
       "      <td>29</td>\n",
       "    </tr>\n",
       "    <tr>\n",
       "      <th>1</th>\n",
       "      <td>in</td>\n",
       "      <td>18</td>\n",
       "    </tr>\n",
       "    <tr>\n",
       "      <th>2</th>\n",
       "      <td>from</td>\n",
       "      <td>10</td>\n",
       "    </tr>\n",
       "    <tr>\n",
       "      <th>3</th>\n",
       "      <td>for</td>\n",
       "      <td>8</td>\n",
       "    </tr>\n",
       "    <tr>\n",
       "      <th>4</th>\n",
       "      <td>on</td>\n",
       "      <td>5</td>\n",
       "    </tr>\n",
       "    <tr>\n",
       "      <th>5</th>\n",
       "      <td>that</td>\n",
       "      <td>5</td>\n",
       "    </tr>\n",
       "    <tr>\n",
       "      <th>6</th>\n",
       "      <td>by</td>\n",
       "      <td>4</td>\n",
       "    </tr>\n",
       "    <tr>\n",
       "      <th>7</th>\n",
       "      <td>with</td>\n",
       "      <td>3</td>\n",
       "    </tr>\n",
       "  </tbody>\n",
       "</table>\n",
       "</div>"
      ],
      "text/plain": [
       "   Noun  Frequency\n",
       "0    of         29\n",
       "1    in         18\n",
       "2  from         10\n",
       "3   for          8\n",
       "4    on          5\n",
       "5  that          5\n",
       "6    by          4\n",
       "7  with          3"
      ]
     },
     "execution_count": 14,
     "metadata": {},
     "output_type": "execute_result"
    }
   ],
   "source": [
    "GetNMostFrequentPrepositions(raw_data,8)"
   ]
  },
  {
   "cell_type": "code",
   "execution_count": null,
   "metadata": {},
   "outputs": [],
   "source": []
  },
  {
   "cell_type": "markdown",
   "metadata": {},
   "source": [
    "### 2.Write a Python function that accepts a string and prints the first sentence in the string along with its syntax tree."
   ]
  },
  {
   "cell_type": "code",
   "execution_count": 15,
   "metadata": {},
   "outputs": [],
   "source": [
    "\n",
    "def PrintSyntaxTree(string):\n",
    "    try: \n",
    "        sentences_tokenizer = sent_tokenize(string)\n",
    "        first_sentence = sentences_tokenizer[0]\n",
    "        print(f'The first sentence of the document is : {first_sentence}')\n",
    "        first_sentence_word = word_tokenize(first_sentence)\n",
    "        #print(first_sentence_word)\n",
    "        tagged_sentence = pos_tag(first_sentence_word)\n",
    "        \n",
    "        \n",
    "        #print(tagged_sentence)\n",
    "    except:\n",
    "        return []\n",
    "    \n",
    "    return tagged_sentence"
   ]
  },
  {
   "cell_type": "code",
   "execution_count": 16,
   "metadata": {},
   "outputs": [
    {
     "name": "stdout",
     "output_type": "stream",
     "text": [
      "The first sentence of the document is : 2018 FIFA World CUP is an international tournament where all teams compete religously and they showcase beautiful talent.\n"
     ]
    },
    {
     "data": {
      "text/plain": [
       "[('2018', 'CD'),\n",
       " ('FIFA', 'NNP'),\n",
       " ('World', 'NNP'),\n",
       " ('CUP', 'NNP'),\n",
       " ('is', 'VBZ'),\n",
       " ('an', 'DT'),\n",
       " ('international', 'JJ'),\n",
       " ('tournament', 'NN'),\n",
       " ('where', 'WRB'),\n",
       " ('all', 'DT'),\n",
       " ('teams', 'NNS'),\n",
       " ('compete', 'VBP'),\n",
       " ('religously', 'RB'),\n",
       " ('and', 'CC'),\n",
       " ('they', 'PRP'),\n",
       " ('showcase', 'VBP'),\n",
       " ('beautiful', 'JJ'),\n",
       " ('talent', 'NN'),\n",
       " ('.', '.')]"
      ]
     },
     "execution_count": 16,
     "metadata": {},
     "output_type": "execute_result"
    }
   ],
   "source": [
    "PrintSyntaxTree(raw_data)"
   ]
  },
  {
   "cell_type": "markdown",
   "metadata": {},
   "source": [
    "### 3.Write a Python function that accepts and returns a string using regular expressions:\n",
    "#####  -Text from the string after removing all the punctuation (Take function name as “TextAfterRemovingPunctuations”)\n",
    "#####  -Text from the string after removing all the numbers/digits (Take function name as “TextAfterRemovingDigits”)\n",
    "#####  -All the words that begin with a capital letter (Take function name as “AllCapitalizedWordsFromText”)\n",
    "#####  -All the emails from the string (Take function name as “AllEmailsFromText”)\n"
   ]
  },
  {
   "cell_type": "code",
   "execution_count": 17,
   "metadata": {},
   "outputs": [
    {
     "data": {
      "text/plain": [
       "'2018 FIFA World CUP is an international tournament where all teams compete religously and they showcase beautiful talent It took place in Russia from 14 June to 15 July 2018 It was the first World Cup to be held in Eastern Europe and the 11th time that it had been held in Europe At an estimated cost of over 142 billion it was the most expensive World Cup It was also the first World Cup to use the video assistant referee  system  The finals involved 32 teams of which 31 came through qualifying competitions while the host nation qualified automatically Of the 32 teams 20 had also appeared in the previous tournament in 2014 while both Iceland and Panama made their first appearances at a FIFA World Cup A total of 64 matches were played in 12 venues across 11 cities  The final took place on 15 July at the Luzhniki Stadium in Moscow between France and Croatia France won the match 42 to claim their second World Cup title marking the fourth consecutive title won by a European team The bidding procedure to host the 2018 and 2022 FIFA World Cup tournaments began in January 2009 and national associations had until 2 February 2009 to register their interest Initially nine countries placed bids for the 2018 FIFA World Cup but Mexico later withdrew from proceedings  and Indonesias bid was rejected by FIFA in February 2010 after the Indonesian government failed to submit a letter to support the bid  During the bidding process the three remaining nonUEFA nations Australia Japan and the United States gradually withdrew from the 2018 bids and the UEFA nations were thus ruled out of the 2022 bid As such there were eventually four bids for the 2018 FIFA World Cup two of which were joint bids England Russia NetherlandsBelgium and PortugalSpain The 22member FIFA Executive Committee convened in Zrich on 2 December 2010 to vote to select the hosts of both tournaments Russia won the right to be the 2018 host in the second round of voting The PortugalSpain bid came second and that from BelgiumNetherlands third England which was bidding to host its second tournament was eliminated in the first round The English Football Association and others raised concerns of bribery on the part of the Russian team and corruption from FIFA members They claimed that four members of the executive committee had requested bribes to vote for England and Sepp Blatter had said that it had already been arranged before the vote that Russia would win  The 2014 Garcia Report an internal investigation led by Michael J Garcia was withheld from public release by HansJoachim Eckert FIFAs head of adjudication on ethical matters Eckert instead released a shorter revised summary and his and therefore FIFAs reluctance to publish the full report caused Garcia to resign in protest Because of the controversy the FA refused to accept Eckerts absolving of Russia from blame with Greg Dyke calling for a reexamination of the affair and David Bernstein calling for a boycott of the World Cup At an estimated cost of over 142 billion as of June 2018  it is the most expensive World Cup in history surpassing the cost of the 2014 FIFA World Cup in Brazil  The Russian government had originally earmarked a budget of around 20 billion which was later slashed to 10 billion for the preparations of the World Cup of which half is spent on transport infrastructure As part of the program for preparation to the 2018 FIFA World Cup a federal subprogram Construction and Renovation of Transport Infrastructure was implemented with a total budget of 3525 billion rubles with 1703 billion coming from the federal budget 351 billion from regional budgets and 1471 billion from investors The biggest item of federal spending was the aviation infrastructure 1178 billion rubles86 Construction of new hotels was a crucial area of infrastructure development in the World Cup host cities Costs continued to balloon as preparations were underway There were 169 goals scored in 64 matches for an average of 264 goals per match Twelve own goals were scored during the tournament doubling the record of six set in 1998  '"
      ]
     },
     "execution_count": 17,
     "metadata": {},
     "output_type": "execute_result"
    }
   ],
   "source": [
    "import re\n",
    "\n",
    "#Text from the string after removing all the punctuation (Take function name as “”)\n",
    "def TextAfterRemovingPunctuations(string):\n",
    "    result = re.sub(r'[^\\w\\s]','', string)\n",
    "    \n",
    "    return result\n",
    "\n",
    "\n",
    "TextAfterRemovingPunctuations(raw_data)\n",
    "    "
   ]
  },
  {
   "cell_type": "code",
   "execution_count": 18,
   "metadata": {},
   "outputs": [
    {
     "data": {
      "text/plain": [
       "' FIFA World CUP is an international tournament where all teams compete religously and they showcase beautiful talent. It took place in Russia from June to July. It was the first World Cup to be held in Eastern Europe, and theth time that it had been held in Europe. At an estimated cost of over billion, it was the most expensive World Cup. It was also the first World Cup to use the video assistant referee  system.  The finals involved teams, of which came through qualifying competitions, while the host nation qualified automatically. Of the teams, had also appeared in the previous tournament in, while both Iceland and Panama made their first appearances at a FIFA World Cup. A total of matches were played in venues across cities.  The final took place on July at the Luzhniki Stadium in Moscow, between France and Croatia. France won the match to claim their second World Cup title, marking the fourth consecutive title won by a European team. The bidding procedure to host the and FIFA World Cup tournaments began in January, and national associations had until February to register their interest. Initially, nine countries placed bids for the FIFA World Cup, but Mexico later withdrew from proceedings,  and Indonesia\\'s bid was rejected by FIFA in February after the Indonesian government failed to submit a letter to support the bid.  During the bidding process, the three remaining non-UEFA nations (Australia, Japan, and the United States) gradually withdrew from the bids, and the UEFA nations were thus ruled out of the bid. As such, there were eventually four bids for the FIFA World Cup, two of which were joint bids: England, Russia, Netherlands/Belgium, and Portugal/Spain. The-member FIFA Executive Committee convened in Zrich on December to vote to select the hosts of both tournaments. Russia won the right to be the host in the second round of voting. The Portugal/Spain bid came second, and that from Belgium/Netherlands third. England, which was bidding to host its second tournament, was eliminated in the first round The English Football Association and others raised concerns of bribery on the part of the Russian team and corruption from FIFA members. They claimed that four members of the executive committee had requested bribes to vote for England, and Sepp Blatter had said that it had already been arranged before the vote that Russia would win.  The Garcia Report, an internal investigation led by Michael J. Garcia, was withheld from public release by Hans-Joachim Eckert, FIFA\\'s head of adjudication on ethical matters. Eckert instead released a shorter revised summary, and his (and therefore FIFA\\'s) reluctance to publish the full report caused Garcia to resign in protest. Because of the controversy, the FA refused to accept Eckert\\'s absolving of Russia from blame, with Greg Dyke calling for a re-examination of the affair and David Bernstein calling for a boycott of the World Cup. At an estimated cost of over  billion as of June,  it is the most expensive World Cup in history, surpassing the cost of the FIFA World Cup in Brazil.  The Russian government had originally earmarked a budget of around  billion which was later slashed to  billion for the preparations of the World Cup, of which half is spent on transport infrastructure. As part of the program for preparation to the FIFA World Cup, a federal sub-program \"Construction and Renovation of Transport Infrastructure\" was implemented with a total budget of billion rubles, with billion coming from the federal budget, billion from regional budgets, and billion from investors. The biggest item of federal spending was the aviation infrastructure  billion rubles).] Construction of new hotels was a crucial area of infrastructure development in the World Cup host cities. Costs continued to balloon as preparations were underway There were goals scored in matches, for an average of goals per match. Twelve own goals were scored during the tournament, doubling the record of six set in  '"
      ]
     },
     "execution_count": 18,
     "metadata": {},
     "output_type": "execute_result"
    }
   ],
   "source": [
    "#Text from the string after removing all the numbers/digits (Take function name as “TextAfterRemovingDigits”)¶\n",
    "def TextAfterRemovingDigits(string):\n",
    "    result = re.sub(r'(^|\\W)\\d+', '', string)\n",
    "    return result\n",
    "\n",
    "TextAfterRemovingDigits(raw_data)"
   ]
  },
  {
   "cell_type": "code",
   "execution_count": 19,
   "metadata": {},
   "outputs": [
    {
     "data": {
      "text/plain": [
       "['d',\n",
       " 't',\n",
       " 'a',\n",
       " 'e',\n",
       " 'y',\n",
       " 't',\n",
       " 'd',\n",
       " 'p',\n",
       " 'n',\n",
       " 'e',\n",
       " 'e',\n",
       " 't',\n",
       " 'd',\n",
       " 'p',\n",
       " 't',\n",
       " 'd',\n",
       " 'p',\n",
       " 'e',\n",
       " 'f',\n",
       " 'd',\n",
       " 'a',\n",
       " 'd',\n",
       " 'p',\n",
       " '',\n",
       " 'e',\n",
       " 'y',\n",
       " 'i',\n",
       " 'm',\n",
       " 'w',\n",
       " 'e',\n",
       " 'a',\n",
       " 'e',\n",
       " 'd',\n",
       " 'p',\n",
       " 'n',\n",
       " 'e',\n",
       " 'd',\n",
       " 'p',\n",
       " 'y',\n",
       " 'y',\n",
       " 'y',\n",
       " 'd',\n",
       " 'p',\n",
       " 'o',\n",
       " 'a',\n",
       " 'y',\n",
       " 'n',\n",
       " 'g',\n",
       " 'a',\n",
       " 'n',\n",
       " 'd',\n",
       " 's',\n",
       " 's',\n",
       " 'd',\n",
       " 'p',\n",
       " 'd',\n",
       " 'a',\n",
       " 's',\n",
       " 'm',\n",
       " 'l',\n",
       " 'n',\n",
       " 'e',\n",
       " 'e',\n",
       " 'e',\n",
       " 'h',\n",
       " 'r',\n",
       " 'a',\n",
       " 'e',\n",
       " 'l',\n",
       " 'n',\n",
       " 'm',\n",
       " 's',\n",
       " 'd',\n",
       " 'e',\n",
       " 'h',\n",
       " 'l',\n",
       " 'n',\n",
       " 'n',\n",
       " 'y',\n",
       " 'd',\n",
       " 'p',\n",
       " 'r',\n",
       " 'a',\n",
       " 'e',\n",
       " 'a',\n",
       " 't',\n",
       " 'l',\n",
       " '',\n",
       " 'a',\n",
       " 's',\n",
       " 'm',\n",
       " 't',\n",
       " 't',\n",
       " 'a',\n",
       " 'e',\n",
       " 't',\n",
       " 'a',\n",
       " 'g',\n",
       " 'e',\n",
       " 'd',\n",
       " 'n',\n",
       " 'd',\n",
       " 'p',\n",
       " 't',\n",
       " 'e',\n",
       " 'd',\n",
       " 'p',\n",
       " 'd',\n",
       " 'p',\n",
       " 'l',\n",
       " 'e',\n",
       " 'n',\n",
       " 'd',\n",
       " 'p',\n",
       " 's',\n",
       " 'd',\n",
       " 'p',\n",
       " 'n',\n",
       " 'n',\n",
       " 't',\n",
       " 'e',\n",
       " 'e',\n",
       " 'n',\n",
       " 'd',\n",
       " 'p',\n",
       " 's',\n",
       " 'e',\n",
       " 'e']"
      ]
     },
     "execution_count": 19,
     "metadata": {},
     "output_type": "execute_result"
    }
   ],
   "source": [
    "#All the words that begin with a capital letter (Take function name as “AllCapitalizedWordsFromText”)\n",
    "\n",
    "def AllCapitalizedWordsFromText(string):\n",
    "    result = re.findall(r'\\b[A-Z]([a-z])*\\b',string)\n",
    "    cap = []\n",
    "    for i in result:\n",
    "        cap.append(i)\n",
    "    return cap\n",
    "\n",
    "AllCapitalizedWordsFromText(raw_data)"
   ]
  },
  {
   "cell_type": "code",
   "execution_count": 20,
   "metadata": {},
   "outputs": [
    {
     "data": {
      "text/plain": [
       "[]"
      ]
     },
     "execution_count": 20,
     "metadata": {},
     "output_type": "execute_result"
    }
   ],
   "source": [
    "#All the emails from the string (Take function name as “AllEmailsFromText”)\n",
    "def AllEmailsFromText(string):\n",
    "    emails = re.findall(r'[\\w\\.-]+@[\\w\\.-]+', string)\n",
    "    return emails\n",
    "\n",
    "AllEmailsFromText(raw_data)"
   ]
  },
  {
   "cell_type": "markdown",
   "metadata": {},
   "source": [
    "### 4.write Python functions that accept a string as an input and return the following chunks:\n",
    "##### - Phrases that have proper nouns followed by verbs (Take function name as “ChunkingVer1”)\n",
    "##### - Verb phrases that have verbs followed by adjectives (Take function name as“ChunkingVer2”)\n",
    "##### - Noun phrases that have determiners followed by nouns (Take function name as“ChunkingVer3”)\n",
    "##### - Verb phrases that have verbs followed by adverbs (Take function name as “ChunkingVer4”)\n",
    "##### - Phrases that have delimiter, adjectives, and nouns in the respective order. (Take function name as “ChunkingVer5”)\n",
    "##### - Noun phrases that have nouns and adjectives, terminated with nouns. (Take function name as “ChunkingVer6”)"
   ]
  },
  {
   "cell_type": "code",
   "execution_count": 115,
   "metadata": {},
   "outputs": [
    {
     "data": {
      "text/plain": [
       "[' FIFA World CUP is ',\n",
       " ' teams compete ',\n",
       " ' finals involved ',\n",
       " ' host nation qualified ',\n",
       " ' Panama made ',\n",
       " ' matches were played ',\n",
       " ' France won ',\n",
       " ' title won ',\n",
       " ' FIFA World Cup tournaments began ',\n",
       " ' associations had ',\n",
       " ' countries placed ',\n",
       " ' bid was rejected ',\n",
       " ' government failed ',\n",
       " ' UEFA nations were ',\n",
       " ' FIFA Executive Committee convened ',\n",
       " ' Russia won ',\n",
       " ' Portugal/Spain bid came ',\n",
       " ' others raised ',\n",
       " ' committee had requested ',\n",
       " ' Sepp Blatter had said ',\n",
       " ' investigation led ',\n",
       " ' shorter revised ',\n",
       " ' report caused ',\n",
       " ' FA refused ',\n",
       " ' Greg Dyke calling ',\n",
       " ' David Bernstein calling ',\n",
       " ' government had ',\n",
       " ' half is spent ',\n",
       " ' spending was ',\n",
       " ' hotels was ',\n",
       " ' Costs continued ',\n",
       " ' preparations were ',\n",
       " ' goals scored ',\n",
       " ' goals were scored ']"
      ]
     },
     "execution_count": 115,
     "metadata": {},
     "output_type": "execute_result"
    }
   ],
   "source": [
    "#Phrases that have proper nouns followed by verbs\n",
    "def ChunkingVer1(string):\n",
    "    sentences_tokenized = sent_tokenize(raw_data)\n",
    "    #print(len(sentences_tokenized))\n",
    "    grammer_expression = r\"Phrase:{<N.*>*<N.*><V.*>*<V.*>}\"\n",
    "    #grammer_expression=r\"Phrases:{<NNP|NNPS>*<NNP|NNPS><VB|VBD|VBG|VBZ|VBP|VBN>*<VB|VBD|VBG|VBZ|VBP|VBN>}\"\n",
    "    phrases = []\n",
    "    for sentence in sentences_tokenized:\n",
    "        words_tokenized = word_tokenize(sentence)\n",
    "        tagged_words = pos_tag(words_tokenized)\n",
    "        \n",
    "        cp = nltk.RegexpParser(grammer_expression)\n",
    "        phrase_list = cp.parse(tagged_words)\n",
    "       \n",
    "        for subtree in phrase_list.subtrees():\n",
    "            \n",
    "            if subtree.label() == 'Phrase':\n",
    "                #print(subtree.leaves())\n",
    "                phrase = \" \" \n",
    "                for i in subtree.leaves():\n",
    "                    phrase += i[0] + \" \"\n",
    "                #print(phrase)\n",
    "                phrases.append(phrase)\n",
    "        \n",
    "    #print(phrases)\n",
    "    \n",
    "    return phrases\n",
    "\n",
    "ChunkingVer1(raw_data)"
   ]
  },
  {
   "cell_type": "code",
   "execution_count": 128,
   "metadata": {},
   "outputs": [
    {
     "data": {
      "text/plain": [
       "[' showcase beautiful ',\n",
       " ' remaining non-UEFA ',\n",
       " ' were joint ',\n",
       " ' came second ',\n",
       " ' revised summary ']"
      ]
     },
     "execution_count": 128,
     "metadata": {},
     "output_type": "execute_result"
    }
   ],
   "source": [
    "#Verb phrases that have verbs followed by adjectives (Take function name as“”\n",
    "def ChunkingVer2(string):\n",
    "    sentence_tokenized = sent_tokenize(string)\n",
    "    \n",
    "    grammar_expression = r\"VerbPhrases:{<V.*>*<V.*><J.*>}\"\n",
    "    #grammar_expression=r\"VerbPhrases:{<VB|VBD|VBG|VBZ|VBP|VBN>*<VB|VBD|VBG|VBZ|VBP|VBN><JJ|JJR|JJS>*<JJ|JJR|JJS>}\"\n",
    "    phrases = []\n",
    "    \n",
    "    for sentence in sentence_tokenized:\n",
    "        words_tokenized = word_tokenize(sentence)\n",
    "        tagged_words = pos_tag(words_tokenized)\n",
    "        cp = nltk.RegexpParser(grammar_expression)\n",
    "        phrase_list = cp.parse(tagged_words)\n",
    "        \n",
    "        for tree in phrase_list.subtrees():\n",
    "           \n",
    "            if tree.label() == 'VerbPhrases':\n",
    "                phrase = \" \"\n",
    "                for i in tree.leaves():\n",
    "                    phrase += i[0] + ' '\n",
    "                phrases.append(phrase)\n",
    "               \n",
    "            #print(tree.)\n",
    "    return phrases      \n",
    "ChunkingVer2(raw_data)       "
   ]
  },
  {
   "cell_type": "code",
   "execution_count": 131,
   "metadata": {},
   "outputs": [
    {
     "data": {
      "text/plain": [
       "[' all teams ',\n",
       " ' the video assistant referee system ',\n",
       " ' The finals ',\n",
       " ' the host nation ',\n",
       " ' both Iceland ',\n",
       " ' a FIFA World Cup ',\n",
       " ' A total ',\n",
       " ' the Luzhniki Stadium ',\n",
       " ' the match ',\n",
       " ' The bidding procedure ',\n",
       " ' a letter ',\n",
       " ' the bid ',\n",
       " ' the bidding process ',\n",
       " ' the United States ',\n",
       " ' the UEFA nations ',\n",
       " ' the hosts ',\n",
       " ' both tournaments ',\n",
       " ' the right ',\n",
       " ' The Portugal/Spain bid ',\n",
       " ' The English Football Association ',\n",
       " ' the part ',\n",
       " ' the Russian team ',\n",
       " ' the vote ',\n",
       " ' a shorter ',\n",
       " ' the controversy ',\n",
       " ' the FA ',\n",
       " ' a re-examination ',\n",
       " ' the affair ',\n",
       " ' a boycott ',\n",
       " ' the World Cup ',\n",
       " ' the cost ',\n",
       " ' a budget ',\n",
       " ' the preparations ',\n",
       " ' the World Cup ',\n",
       " ' the program ',\n",
       " ' the aviation infrastructure ',\n",
       " ' the World Cup host cities ',\n",
       " ' an average ',\n",
       " ' the tournament ',\n",
       " ' the record ']"
      ]
     },
     "execution_count": 131,
     "metadata": {},
     "output_type": "execute_result"
    }
   ],
   "source": [
    "#Noun phrases that have determiners followed by nouns \n",
    "def ChunkingVer3(string):\n",
    "    sentence_tokenized = sent_tokenize(string)\n",
    "    \n",
    "    grammar_expression = r\"DeterminerNouns:{<DT><N.*>*<N.*>}\"\n",
    "    #grammar_expression=r\"DeterminerNouns:{<DT><NN|NNS|NNP|NNPS>*<NN|NNS|NNP|NNPS>}\"\n",
    "    phrases = []\n",
    "    \n",
    "    for sentence in sentence_tokenized:\n",
    "        words_tokenized = word_tokenize(sentence)\n",
    "        tagged_words = pos_tag(words_tokenized)\n",
    "        cp = nltk.RegexpParser(grammar_expression)\n",
    "        phrase_list = cp.parse(tagged_words)\n",
    "        \n",
    "        for tree in phrase_list.subtrees():\n",
    "           \n",
    "            if tree.label() == 'DeterminerNouns':\n",
    "                phrase = \" \"\n",
    "                for i in tree.leaves():\n",
    "                    phrase += i[0] + ' '\n",
    "                phrases.append(phrase)\n",
    "               \n",
    "            \n",
    "    return phrases      \n",
    "    \n",
    "ChunkingVer3(raw_data)"
   ]
  },
  {
   "cell_type": "code",
   "execution_count": 142,
   "metadata": {},
   "outputs": [
    {
     "data": {
      "text/plain": [
       "[' compete religously ',\n",
       " ' was also ',\n",
       " ' qualified automatically ',\n",
       " ' had also ',\n",
       " ' were thus ',\n",
       " ' were eventually ',\n",
       " ' had already ',\n",
       " ' had originally ',\n",
       " ' was later ',\n",
       " ' were underway ']"
      ]
     },
     "execution_count": 142,
     "metadata": {},
     "output_type": "execute_result"
    }
   ],
   "source": [
    "#Verb phrases that have verbs followed by adverbs (Take function name as “”\n",
    "def ChunkingVer4(string):\n",
    "    sentence_tokenized = sent_tokenize(string)\n",
    "    \n",
    "    grammar_expression = r\"VerbAdverbs:{<V.*><R.*>}\"\n",
    "    #grammar_expression = r\"VerbAdverbs:{<VB|VBD|VBG|VBZ|VBP|VBN>*<VB|VBD|VBG|VBZ|VBP|VBN><RB|RBR>*<RB|RBR>}\"\n",
    "    phrases = []\n",
    "    \n",
    "    for sentence in sentence_tokenized:\n",
    "        words_tokenized = word_tokenize(sentence)\n",
    "        tagged_words = pos_tag(words_tokenized)\n",
    "        cp = nltk.RegexpParser(grammar_expression)\n",
    "        phrase_list = cp.parse(tagged_words)\n",
    "        \n",
    "        for tree in phrase_list.subtrees():\n",
    "           \n",
    "            if tree.label() == 'VerbAdverbs':\n",
    "                phrase = \" \"\n",
    "                for i in tree.leaves():\n",
    "                    phrase += i[0] + ' '\n",
    "                phrases.append(phrase)\n",
    "               \n",
    "           \n",
    "    return phrases      \n",
    "\n",
    "ChunkingVer4(raw_data)"
   ]
  },
  {
   "cell_type": "code",
   "execution_count": 141,
   "metadata": {},
   "outputs": [
    {
     "data": {
      "text/plain": [
       "[' an international tournament ',\n",
       " ' the first World ',\n",
       " ' an estimated cost ',\n",
       " ' the first World ',\n",
       " ' the previous tournament ',\n",
       " ' a European team ',\n",
       " ' the Indonesian government ',\n",
       " ' The 22-member FIFA ',\n",
       " ' the second round ',\n",
       " ' the first round ',\n",
       " ' the executive committee ',\n",
       " ' an internal investigation ',\n",
       " ' the full report ',\n",
       " ' an estimated cost ',\n",
       " ' The Russian government ',\n",
       " ' a total budget ',\n",
       " ' the federal budget ',\n",
       " ' The biggest item ',\n",
       " ' a crucial area ']"
      ]
     },
     "execution_count": 141,
     "metadata": {},
     "output_type": "execute_result"
    }
   ],
   "source": [
    "#Phrases that have delimiter, adjectives, and nouns in the respective order.\n",
    "def ChunkingVer5(string):\n",
    "    sentence_tokenized = sent_tokenize(string)\n",
    "    \n",
    "    grammar_expression = r\"DelAdjNouns:{<DT><J.*><N.*>}\"\n",
    "    #grammar_expression=r\"DelAdjNouns:{<DT><JJ><NN|NNP|NNS|NNPS>}\"\n",
    "    phrases = []\n",
    "    \n",
    "    for sentence in sentence_tokenized:\n",
    "        words_tokenized = word_tokenize(sentence)\n",
    "        tagged_words = pos_tag(words_tokenized)\n",
    "        cp = nltk.RegexpParser(grammar_expression)\n",
    "        phrase_list = cp.parse(tagged_words)\n",
    "        \n",
    "        for tree in phrase_list.subtrees():\n",
    "           \n",
    "            if tree.label() == 'DelAdjNouns':\n",
    "                phrase = \" \"\n",
    "                for i in tree.leaves():\n",
    "                    phrase += i[0] + ' '\n",
    "                phrases.append(phrase)\n",
    "               \n",
    "           \n",
    "    return phrases      \n",
    "ChunkingVer5(raw_data)"
   ]
  },
  {
   "cell_type": "code",
   "execution_count": 145,
   "metadata": {},
   "outputs": [
    {
     "data": {
      "text/plain": [
       "[' Twelve own goals ']"
      ]
     },
     "execution_count": 145,
     "metadata": {},
     "output_type": "execute_result"
    }
   ],
   "source": [
    "#Noun phrases that have nouns and adjectives, terminated with nouns.\n",
    "def ChunkingVer6(string):\n",
    "    sentence_tokenized = sent_tokenize(string)\n",
    "    \n",
    "    #grammar_expression = r\"NounsAdjNouns:{<N.*><J.*><N.*>}\"\n",
    "    grammar_expression=r\"NounsAdjNouns:{<NN|NNP|NNS|NNPS><JJ><NN|NNP|NNS|NNPS>}\"\n",
    "    phrases = []\n",
    "    \n",
    "    for sentence in sentence_tokenized:\n",
    "        words_tokenized = word_tokenize(sentence)\n",
    "        tagged_words = pos_tag(words_tokenized)\n",
    "        cp = nltk.RegexpParser(grammar_expression)\n",
    "        phrase_list = cp.parse(tagged_words)\n",
    "        \n",
    "        for tree in phrase_list.subtrees():\n",
    "           \n",
    "            if tree.label() == 'NounsAdjNouns':\n",
    "                phrase = \" \"\n",
    "                for i in tree.leaves():\n",
    "                    phrase += i[0] + ' '\n",
    "                phrases.append(phrase)\n",
    "               \n",
    "           \n",
    "    return phrases      \n",
    "ChunkingVer6(raw_data)"
   ]
  },
  {
   "cell_type": "markdown",
   "metadata": {},
   "source": [
    "### 5. Make a content-free grammar having the following rules:\n",
    " - Noun phrases are followed by verb phrases\n",
    " - Verb phrase can have:\n",
    "\n",
    " - Verb and noun phrases\n",
    " - Verb, noun phrases, and preposition phrases\n",
    " - Noun phrases can have:\n",
    "\n",
    " - Delimiters followed by nouns\n",
    " - Preposition phrase has a preposition followed by a noun phrase"
   ]
  },
  {
   "cell_type": "code",
   "execution_count": 149,
   "metadata": {},
   "outputs": [
    {
     "name": "stdout",
     "output_type": "stream",
     "text": [
      "Nouns:     Noun  Frequency\n",
      "0  World         15\n",
      "1    Cup         14\n",
      "Verbs:    Noun  Frequency\n",
      "0   was         11\n",
      "1  were          7\n",
      "Prepositions:   Noun  Frequency\n",
      "0   of         29\n",
      "1   in         18\n",
      "Delimiters:   Noun  Frequency\n",
      "0    ,         40\n",
      "1    .         28\n"
     ]
    }
   ],
   "source": [
    "#2 most common Nouns\n",
    "print (\"Nouns:\",GEtNMostFrequentNouns(raw_data,2))\n",
    "\n",
    "#2 most common verbs\n",
    "print (\"Verbs:\",GetNMostFrequentVerbs(raw_data,2))\n",
    "\n",
    "#2 most common prepositions\n",
    "print (\"Prepositions:\",GetNMostFrequentPrepositions(raw_data,2))\n",
    "\n",
    "#2 most common delimiters\n",
    "print (\"Delimiters:\",GetNMostFrequentDelimiters(raw_data,2))"
   ]
  },
  {
   "cell_type": "code",
   "execution_count": 150,
   "metadata": {},
   "outputs": [],
   "source": [
    "from nltk.parse.generate import generate\n",
    "grammar = nltk.CFG.fromstring(\"\"\"\n",
    " S -> NP VP\n",
    " VP -> V NP | V NP PP\n",
    " V -> \"had\" | \"was\"\n",
    " NP -> DT N \n",
    " DT -> \"a\" | \"the\" \n",
    " N -> \"world\" | \"cup\"\n",
    " PP -> P NP\n",
    " P -> \"of\" | \"in\"\n",
    " \"\"\")\n",
    "\n",
    "generated_grammar=[]\n",
    "for sent in generate(grammar):\n",
    "    generated_grammar.append(\" \".join(sent))"
   ]
  },
  {
   "cell_type": "code",
   "execution_count": 151,
   "metadata": {},
   "outputs": [],
   "source": [
    "#Saving in a file name \"CGF.txt\"\n",
    "\n",
    "file=open('CFG.txt','a+')\n",
    "for each in generated_grammar:\n",
    "    file.write(each+\"\\n\")\n",
    "file.close()\n",
    "    "
   ]
  },
  {
   "cell_type": "code",
   "execution_count": null,
   "metadata": {},
   "outputs": [],
   "source": []
  }
 ],
 "metadata": {
  "kernelspec": {
   "display_name": "Python 3",
   "language": "python",
   "name": "python3"
  },
  "language_info": {
   "codemirror_mode": {
    "name": "ipython",
    "version": 3
   },
   "file_extension": ".py",
   "mimetype": "text/x-python",
   "name": "python",
   "nbconvert_exporter": "python",
   "pygments_lexer": "ipython3",
   "version": "3.7.6"
  }
 },
 "nbformat": 4,
 "nbformat_minor": 4
}
